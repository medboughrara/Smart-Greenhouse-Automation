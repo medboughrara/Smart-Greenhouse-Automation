{
  "nbformat": 4,
  "nbformat_minor": 0,
  "metadata": {
    "colab": {
      "provenance": [],
      "gpuType": "T4"
    },
    "kernelspec": {
      "name": "python3",
      "display_name": "Python 3"
    },
    "language_info": {
      "name": "python"
    },
    "accelerator": "GPU"
  },
  "cells": [
    {
      "cell_type": "code",
      "source": [
        "pip install pandas scikit-learn xgboost joblib\n"
      ],
      "metadata": {
        "colab": {
          "base_uri": "https://localhost:8080/"
        },
        "id": "j0-znsxWFEAj",
        "outputId": "bd091872-a6f1-4183-f48b-2cb9e276765f"
      },
      "execution_count": 29,
      "outputs": [
        {
          "output_type": "stream",
          "name": "stdout",
          "text": [
            "Requirement already satisfied: pandas in /usr/local/lib/python3.11/dist-packages (2.2.2)\n",
            "Requirement already satisfied: scikit-learn in /usr/local/lib/python3.11/dist-packages (1.6.1)\n",
            "Requirement already satisfied: xgboost in /usr/local/lib/python3.11/dist-packages (3.0.2)\n",
            "Requirement already satisfied: joblib in /usr/local/lib/python3.11/dist-packages (1.5.1)\n",
            "Requirement already satisfied: numpy>=1.23.2 in /usr/local/lib/python3.11/dist-packages (from pandas) (2.0.2)\n",
            "Requirement already satisfied: python-dateutil>=2.8.2 in /usr/local/lib/python3.11/dist-packages (from pandas) (2.9.0.post0)\n",
            "Requirement already satisfied: pytz>=2020.1 in /usr/local/lib/python3.11/dist-packages (from pandas) (2025.2)\n",
            "Requirement already satisfied: tzdata>=2022.7 in /usr/local/lib/python3.11/dist-packages (from pandas) (2025.2)\n",
            "Requirement already satisfied: scipy>=1.6.0 in /usr/local/lib/python3.11/dist-packages (from scikit-learn) (1.16.0)\n",
            "Requirement already satisfied: threadpoolctl>=3.1.0 in /usr/local/lib/python3.11/dist-packages (from scikit-learn) (3.6.0)\n",
            "Requirement already satisfied: nvidia-nccl-cu12 in /usr/local/lib/python3.11/dist-packages (from xgboost) (2.21.5)\n",
            "Requirement already satisfied: six>=1.5 in /usr/local/lib/python3.11/dist-packages (from python-dateutil>=2.8.2->pandas) (1.17.0)\n"
          ]
        }
      ]
    },
    {
      "cell_type": "code",
      "source": [
        "import pandas as pd\n",
        "from sklearn.model_selection import train_test_split\n",
        "from sklearn.metrics import classification_report\n",
        "from sklearn.multioutput import MultiOutputClassifier\n",
        "from sklearn.ensemble import RandomForestClassifier\n",
        "from xgboost import XGBClassifier\n",
        "import joblib\n",
        "\n",
        "# === 1. Load Data ===\n",
        "df = pd.read_csv('/content/IoTProcessed_Data.csv')  # Replace with your dataset path\n",
        "\n",
        "# === 2. Preprocess ===\n",
        "df = df.drop(columns=['date', 'Fan_actuator_OFF', 'Watering_plant_pump_OFF', 'Water_pump_actuator_OFF', 'Water_pump_actuator_ON'])\n",
        "\n",
        "# Features (X) and labels (y)\n",
        "X = df.drop(columns=['Fan_actuator_ON', 'Watering_plant_pump_ON'])\n",
        "y = df[['Fan_actuator_ON', 'Watering_plant_pump_ON']]\n",
        "\n",
        "# === 3. Split ===\n",
        "X_train, X_test, y_train, y_test = train_test_split(X, y, test_size=0.2, random_state=42)\n",
        "\n",
        "# === 4. Train Random Forest ===\n",
        "print(\"\\n🌲 Training Random Forest...\")\n",
        "rf_model = MultiOutputClassifier(RandomForestClassifier(n_estimators=100, random_state=42))\n",
        "rf_model.fit(X_train, y_train)\n",
        "rf_preds = rf_model.predict(X_test)\n",
        "\n",
        "print(\"\\n📊 Random Forest Performance:\")\n",
        "print(classification_report(y_test, rf_preds, target_names=['Fan_actuator_ON', 'Watering_plant_pump_ON']))\n",
        "\n",
        "# Save Random Forest model\n",
        "joblib.dump(rf_model, 'rf_greenhouse_model.pkl')\n",
        "\n",
        "# === 5. Train XGBoost ===\n",
        "print(\"\\n🚀 Training XGBoost...\")\n",
        "xgb_base = XGBClassifier(n_estimators=100, max_depth=5, learning_rate=0.1, use_label_encoder=False, eval_metric='logloss')\n",
        "xgb_model = MultiOutputClassifier(xgb_base)\n",
        "xgb_model.fit(X_train, y_train)\n",
        "xgb_preds = xgb_model.predict(X_test)\n",
        "\n",
        "print(\"\\n📊 XGBoost Performance:\")\n",
        "print(classification_report(y_test, xgb_preds, target_names=['Fan_actuator_ON', 'Watering_plant_pump_ON']))\n",
        "\n",
        "# Save XGBoost model\n",
        "joblib.dump(xgb_model, 'xgb_greenhouse_model.pkl')\n",
        "\n",
        "print(\"\\n✅ Models saved as 'rf_greenhouse_model.pkl' and 'xgb_greenhouse_model.pkl'\")\n"
      ],
      "metadata": {
        "colab": {
          "base_uri": "https://localhost:8080/"
        },
        "id": "huvUQrxvEzXD",
        "outputId": "705e6f6b-d98a-4163-e2a9-78d2b92e0ae4"
      },
      "execution_count": 30,
      "outputs": [
        {
          "output_type": "stream",
          "name": "stdout",
          "text": [
            "\n",
            "🌲 Training Random Forest...\n",
            "\n",
            "📊 Random Forest Performance:\n",
            "                        precision    recall  f1-score   support\n",
            "\n",
            "       Fan_actuator_ON       1.00      1.00      1.00      2338\n",
            "Watering_plant_pump_ON       1.00      1.00      1.00      1757\n",
            "\n",
            "             micro avg       1.00      1.00      1.00      4095\n",
            "             macro avg       1.00      1.00      1.00      4095\n",
            "          weighted avg       1.00      1.00      1.00      4095\n",
            "           samples avg       0.44      0.44      0.44      4095\n",
            "\n",
            "\n",
            "🚀 Training XGBoost...\n"
          ]
        },
        {
          "output_type": "stream",
          "name": "stderr",
          "text": [
            "/usr/local/lib/python3.11/dist-packages/sklearn/metrics/_classification.py:1565: UndefinedMetricWarning: Precision is ill-defined and being set to 0.0 in samples with no predicted labels. Use `zero_division` parameter to control this behavior.\n",
            "  _warn_prf(average, modifier, f\"{metric.capitalize()} is\", len(result))\n",
            "/usr/local/lib/python3.11/dist-packages/sklearn/metrics/_classification.py:1565: UndefinedMetricWarning: Recall is ill-defined and being set to 0.0 in samples with no true labels. Use `zero_division` parameter to control this behavior.\n",
            "  _warn_prf(average, modifier, f\"{metric.capitalize()} is\", len(result))\n",
            "/usr/local/lib/python3.11/dist-packages/sklearn/metrics/_classification.py:1565: UndefinedMetricWarning: F-score is ill-defined and being set to 0.0 in samples with no true nor predicted labels. Use `zero_division` parameter to control this behavior.\n",
            "  _warn_prf(average, modifier, f\"{metric.capitalize()} is\", len(result))\n",
            "/usr/local/lib/python3.11/dist-packages/xgboost/training.py:183: UserWarning: [09:50:27] WARNING: /workspace/src/learner.cc:738: \n",
            "Parameters: { \"use_label_encoder\" } are not used.\n",
            "\n",
            "  bst.update(dtrain, iteration=i, fobj=obj)\n"
          ]
        },
        {
          "output_type": "stream",
          "name": "stdout",
          "text": [
            "\n",
            "📊 XGBoost Performance:\n",
            "                        precision    recall  f1-score   support\n",
            "\n",
            "       Fan_actuator_ON       1.00      1.00      1.00      2338\n",
            "Watering_plant_pump_ON       1.00      1.00      1.00      1757\n",
            "\n",
            "             micro avg       1.00      1.00      1.00      4095\n",
            "             macro avg       1.00      1.00      1.00      4095\n",
            "          weighted avg       1.00      1.00      1.00      4095\n",
            "           samples avg       0.44      0.44      0.44      4095\n",
            "\n",
            "\n",
            "✅ Models saved as 'rf_greenhouse_model.pkl' and 'xgb_greenhouse_model.pkl'\n"
          ]
        },
        {
          "output_type": "stream",
          "name": "stderr",
          "text": [
            "/usr/local/lib/python3.11/dist-packages/xgboost/training.py:183: UserWarning: [09:50:27] WARNING: /workspace/src/learner.cc:738: \n",
            "Parameters: { \"use_label_encoder\" } are not used.\n",
            "\n",
            "  bst.update(dtrain, iteration=i, fobj=obj)\n",
            "/usr/local/lib/python3.11/dist-packages/sklearn/metrics/_classification.py:1565: UndefinedMetricWarning: Precision is ill-defined and being set to 0.0 in samples with no predicted labels. Use `zero_division` parameter to control this behavior.\n",
            "  _warn_prf(average, modifier, f\"{metric.capitalize()} is\", len(result))\n",
            "/usr/local/lib/python3.11/dist-packages/sklearn/metrics/_classification.py:1565: UndefinedMetricWarning: Recall is ill-defined and being set to 0.0 in samples with no true labels. Use `zero_division` parameter to control this behavior.\n",
            "  _warn_prf(average, modifier, f\"{metric.capitalize()} is\", len(result))\n",
            "/usr/local/lib/python3.11/dist-packages/sklearn/metrics/_classification.py:1565: UndefinedMetricWarning: F-score is ill-defined and being set to 0.0 in samples with no true nor predicted labels. Use `zero_division` parameter to control this behavior.\n",
            "  _warn_prf(average, modifier, f\"{metric.capitalize()} is\", len(result))\n"
          ]
        }
      ]
    },
    {
      "cell_type": "code",
      "source": [
        "pip install shap matplotlib\n"
      ],
      "metadata": {
        "colab": {
          "base_uri": "https://localhost:8080/"
        },
        "id": "tu9LO0bDFIIH",
        "outputId": "52ed487f-e765-47bd-fe53-83f6d47be446"
      },
      "execution_count": 31,
      "outputs": [
        {
          "output_type": "stream",
          "name": "stdout",
          "text": [
            "Requirement already satisfied: shap in /usr/local/lib/python3.11/dist-packages (0.48.0)\n",
            "Requirement already satisfied: matplotlib in /usr/local/lib/python3.11/dist-packages (3.10.0)\n",
            "Requirement already satisfied: numpy in /usr/local/lib/python3.11/dist-packages (from shap) (2.0.2)\n",
            "Requirement already satisfied: scipy in /usr/local/lib/python3.11/dist-packages (from shap) (1.16.0)\n",
            "Requirement already satisfied: scikit-learn in /usr/local/lib/python3.11/dist-packages (from shap) (1.6.1)\n",
            "Requirement already satisfied: pandas in /usr/local/lib/python3.11/dist-packages (from shap) (2.2.2)\n",
            "Requirement already satisfied: tqdm>=4.27.0 in /usr/local/lib/python3.11/dist-packages (from shap) (4.67.1)\n",
            "Requirement already satisfied: packaging>20.9 in /usr/local/lib/python3.11/dist-packages (from shap) (25.0)\n",
            "Requirement already satisfied: slicer==0.0.8 in /usr/local/lib/python3.11/dist-packages (from shap) (0.0.8)\n",
            "Requirement already satisfied: numba>=0.54 in /usr/local/lib/python3.11/dist-packages (from shap) (0.60.0)\n",
            "Requirement already satisfied: cloudpickle in /usr/local/lib/python3.11/dist-packages (from shap) (3.1.1)\n",
            "Requirement already satisfied: typing-extensions in /usr/local/lib/python3.11/dist-packages (from shap) (4.14.1)\n",
            "Requirement already satisfied: contourpy>=1.0.1 in /usr/local/lib/python3.11/dist-packages (from matplotlib) (1.3.2)\n",
            "Requirement already satisfied: cycler>=0.10 in /usr/local/lib/python3.11/dist-packages (from matplotlib) (0.12.1)\n",
            "Requirement already satisfied: fonttools>=4.22.0 in /usr/local/lib/python3.11/dist-packages (from matplotlib) (4.59.0)\n",
            "Requirement already satisfied: kiwisolver>=1.3.1 in /usr/local/lib/python3.11/dist-packages (from matplotlib) (1.4.8)\n",
            "Requirement already satisfied: pillow>=8 in /usr/local/lib/python3.11/dist-packages (from matplotlib) (11.3.0)\n",
            "Requirement already satisfied: pyparsing>=2.3.1 in /usr/local/lib/python3.11/dist-packages (from matplotlib) (3.2.3)\n",
            "Requirement already satisfied: python-dateutil>=2.7 in /usr/local/lib/python3.11/dist-packages (from matplotlib) (2.9.0.post0)\n",
            "Requirement already satisfied: llvmlite<0.44,>=0.43.0dev0 in /usr/local/lib/python3.11/dist-packages (from numba>=0.54->shap) (0.43.0)\n",
            "Requirement already satisfied: six>=1.5 in /usr/local/lib/python3.11/dist-packages (from python-dateutil>=2.7->matplotlib) (1.17.0)\n",
            "Requirement already satisfied: pytz>=2020.1 in /usr/local/lib/python3.11/dist-packages (from pandas->shap) (2025.2)\n",
            "Requirement already satisfied: tzdata>=2022.7 in /usr/local/lib/python3.11/dist-packages (from pandas->shap) (2025.2)\n",
            "Requirement already satisfied: joblib>=1.2.0 in /usr/local/lib/python3.11/dist-packages (from scikit-learn->shap) (1.5.1)\n",
            "Requirement already satisfied: threadpoolctl>=3.1.0 in /usr/local/lib/python3.11/dist-packages (from scikit-learn->shap) (3.6.0)\n"
          ]
        }
      ]
    },
    {
      "cell_type": "code",
      "source": [
        "import shap\n",
        "import matplotlib.pyplot as plt\n",
        "\n",
        "# Use the first classifier from MultiOutput (Fan_actuator_ON)\n",
        "explainer = shap.Explainer(xgb_model.estimators_[0])\n",
        "shap_values = explainer(X_test)\n",
        "\n",
        "# Summary plot for feature importance\n",
        "shap.summary_plot(shap_values, X_test)\n"
      ],
      "metadata": {
        "colab": {
          "base_uri": "https://localhost:8080/",
          "height": 397
        },
        "id": "RoeNZw10F0n9",
        "outputId": "ee893f67-cf8c-4cee-9129-bb964e38a32f"
      },
      "execution_count": 32,
      "outputs": [
        {
          "output_type": "display_data",
          "data": {
            "text/plain": [
              "<Figure size 800x390 with 2 Axes>"
            ],
            "image/png": "[encoded data removed]"
          },
          "metadata": {}
        }
      ]
    },
    {
      "cell_type": "code",
      "source": [
        "pip install onnxmltools skl2onnx\n"
      ],
      "metadata": {
        "colab": {
          "base_uri": "https://localhost:8080/"
        },
        "id": "ZS2o_UCqIXx6",
        "outputId": "e1f40840-2487-45ce-ee18-af7fe3ec5b9c"
      },
      "execution_count": 33,
      "outputs": [
        {
          "output_type": "stream",
          "name": "stdout",
          "text": [
            "Requirement already satisfied: onnxmltools in /usr/local/lib/python3.11/dist-packages (1.14.0)\n",
            "Requirement already satisfied: skl2onnx in /usr/local/lib/python3.11/dist-packages (1.19.1)\n",
            "Requirement already satisfied: numpy in /usr/local/lib/python3.11/dist-packages (from onnxmltools) (2.0.2)\n",
            "Requirement already satisfied: onnx in /usr/local/lib/python3.11/dist-packages (from onnxmltools) (1.18.0)\n",
            "Requirement already satisfied: scikit-learn>=1.1 in /usr/local/lib/python3.11/dist-packages (from skl2onnx) (1.6.1)\n",
            "Requirement already satisfied: protobuf>=4.25.1 in /usr/local/lib/python3.11/dist-packages (from onnx->onnxmltools) (5.29.5)\n",
            "Requirement already satisfied: typing_extensions>=4.7.1 in /usr/local/lib/python3.11/dist-packages (from onnx->onnxmltools) (4.14.1)\n",
            "Requirement already satisfied: scipy>=1.6.0 in /usr/local/lib/python3.11/dist-packages (from scikit-learn>=1.1->skl2onnx) (1.16.0)\n",
            "Requirement already satisfied: joblib>=1.2.0 in /usr/local/lib/python3.11/dist-packages (from scikit-learn>=1.1->skl2onnx) (1.5.1)\n",
            "Requirement already satisfied: threadpoolctl>=3.1.0 in /usr/local/lib/python3.11/dist-packages (from scikit-learn>=1.1->skl2onnx) (3.6.0)\n"
          ]
        }
      ]
    },
    {
      "cell_type": "code",
      "source": [
        "from skl2onnx import convert_sklearn\n",
        "from skl2onnx.common.data_types import FloatTensorType\n",
        "\n",
        "# Convert the first target model (fan)\n",
        "rf_fan_model = rf_model.estimators_[0]\n",
        "initial_type = [('float_input', FloatTensorType([None, X.shape[1]]))]\n",
        "\n",
        "onnx_model = convert_sklearn(rf_fan_model, initial_types=initial_type)\n",
        "with open(\"rf_fan_model.onnx\", \"wb\") as f:\n",
        "    f.write(onnx_model.SerializeToString())\n"
      ],
      "metadata": {
        "id": "6qR05DYOId_T"
      },
      "execution_count": 34,
      "outputs": []
    },
    {
      "cell_type": "code",
      "source": [
        "import pandas as pd\n",
        "import joblib\n",
        "import time\n",
        "\n",
        "# Load model (RF or XGBoost)\n",
        "model = joblib.load('/content/rf_greenhouse_model.pkl')  # or xgb_greenhouse_model.pkl\n",
        "\n",
        "# Example real-time loop (replace with actual sensor reading code)\n",
        "while True:\n",
        "    # Simulate reading from sensors (replace this with your actual sensor interface)\n",
        "    sensor_data = {\n",
        "        'tempreature': 31, # Corrected column name to match training data\n",
        "        'humidity': 40,\n",
        "        'water_level': 90,\n",
        "        'N': 130,\n",
        "        'P': 90,\n",
        "        'K': 100\n",
        "    }\n",
        "\n",
        "    # Convert to DataFrame for prediction\n",
        "    df_input = pd.DataFrame([sensor_data])\n",
        "\n",
        "    # Predict actions\n",
        "    prediction = model.predict(df_input)\n",
        "\n",
        "    fan_on = bool(prediction[0][0])\n",
        "    watering_on = bool(prediction[0][1])\n",
        "\n",
        "    # Print or act\n",
        "    print(f\"Fan: {'ON' if fan_on else 'OFF'} | Watering: {'ON' if watering_on else 'OFF'}\")\n",
        "\n",
        "    # Send to GPIO, relay, or cloud if needed here...\n",
        "\n",
        "    # Delay before next check (simulate real-time)\n",
        "    time.sleep(5)"
      ],
      "metadata": {
        "colab": {
          "base_uri": "https://localhost:8080/"
        },
        "id": "R014ssW0IiU_",
        "outputId": "e7a33149-bee7-4889-9ce4-5a66efd59ff6"
      },
      "execution_count": null,
      "outputs": [
        {
          "output_type": "stream",
          "name": "stdout",
          "text": [
            "Fan: ON | Watering: ON\n",
            "Fan: ON | Watering: ON\n",
            "Fan: ON | Watering: ON\n",
            "Fan: ON | Watering: ON\n",
            "Fan: ON | Watering: ON\n",
            "Fan: ON | Watering: ON\n",
            "Fan: ON | Watering: ON\n",
            "Fan: ON | Watering: ON\n",
            "Fan: ON | Watering: ON\n",
            "Fan: ON | Watering: ON\n",
            "Fan: ON | Watering: ON\n",
            "Fan: ON | Watering: ON\n",
            "Fan: ON | Watering: ON\n",
            "Fan: ON | Watering: ON\n",
            "Fan: ON | Watering: ON\n",
            "Fan: ON | Watering: ON\n",
            "Fan: ON | Watering: ON\n",
            "Fan: ON | Watering: ON\n",
            "Fan: ON | Watering: ON\n",
            "Fan: ON | Watering: ON\n",
            "Fan: ON | Watering: ON\n",
            "Fan: ON | Watering: ON\n",
            "Fan: ON | Watering: ON\n",
            "Fan: ON | Watering: ON\n",
            "Fan: ON | Watering: ON\n",
            "Fan: ON | Watering: ON\n",
            "Fan: ON | Watering: ON\n",
            "Fan: ON | Watering: ON\n",
            "Fan: ON | Watering: ON\n",
            "Fan: ON | Watering: ON\n",
            "Fan: ON | Watering: ON\n",
            "Fan: ON | Watering: ON\n"
          ]
        }
      ]
    },
    {
      "cell_type": "code",
      "source": [],
      "metadata": {
        "id": "jwnLVvChImaH"
      },
      "execution_count": null,
      "outputs": []
    }
  ]
}